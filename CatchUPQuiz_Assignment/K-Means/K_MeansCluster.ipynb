{
  "nbformat": 4,
  "nbformat_minor": 0,
  "metadata": {
    "colab": {
      "provenance": [],
      "toc_visible": true
    },
    "kernelspec": {
      "name": "python3",
      "display_name": "Python 3"
    },
    "language_info": {
      "name": "python"
    }
  },
  "cells": [
    {
      "cell_type": "code",
      "execution_count": 1,
      "metadata": {
        "id": "qtAg0rouHh1r"
      },
      "outputs": [],
      "source": [
        "import numpy as np\n",
        "import pandas as pd\n",
        "import matplotlib.pyplot as plt\n",
        "%matplotlib inline\n",
        "from sklearn.cluster import KMeans\n",
        "from sklearn import metrics\n",
        "from scipy.spatial.distance import cdist"
      ]
    },
    {
      "cell_type": "code",
      "source": [
        "data = np.array( [(3, 5), (3, 4), (5, 6), (2, 6), (4, 5), (6, 8), (6, 2), (6, 3), (5, 6), (6, 7), (7, 2), (8, 5), (9, 1), (8, 2), (9, 6), (9, 1), (8, 3)])\n",
        "print(data)"
      ],
      "metadata": {
        "colab": {
          "base_uri": "https://localhost:8080/"
        },
        "id": "iIPAqchWHw9W",
        "outputId": "8305551f-022a-4a0c-8a1c-a67432836506"
      },
      "execution_count": 15,
      "outputs": [
        {
          "output_type": "stream",
          "name": "stdout",
          "text": [
            "[[3 5]\n",
            " [3 4]\n",
            " [5 6]\n",
            " [2 6]\n",
            " [4 5]\n",
            " [6 8]\n",
            " [6 2]\n",
            " [6 3]\n",
            " [5 6]\n",
            " [6 7]\n",
            " [7 2]\n",
            " [8 5]\n",
            " [9 1]\n",
            " [8 2]\n",
            " [9 6]\n",
            " [9 1]\n",
            " [8 3]]\n"
          ]
        }
      ]
    },
    {
      "cell_type": "code",
      "source": [
        "data[:,0]"
      ],
      "metadata": {
        "colab": {
          "base_uri": "https://localhost:8080/"
        },
        "id": "hmzNrkUMKI3q",
        "outputId": "2e46ad2e-1ee2-4698-efaf-93f9806c4f69"
      },
      "execution_count": 20,
      "outputs": [
        {
          "output_type": "execute_result",
          "data": {
            "text/plain": [
              "array([3, 3, 5, 2, 4, 6, 6, 6, 5, 6, 7, 8, 9, 8, 9, 9, 8])"
            ]
          },
          "metadata": {},
          "execution_count": 20
        }
      ]
    },
    {
      "cell_type": "markdown",
      "source": [
        "# Dataset Visualization using Scatterplot"
      ],
      "metadata": {
        "id": "vaRbiaYtOKN4"
      }
    },
    {
      "cell_type": "code",
      "source": [
        "labels = range(1, 19)  \n",
        "plt.figure(figsize=(10, 7))  \n",
        "plt.subplots_adjust(bottom=0.1)\n",
        "x = data[:, 0]\n",
        "y = data[:, 1]\n",
        "\n",
        "plt.scatter(x, y, label='True Position', marker='$\\U0001F600$')\n",
        "for xy in zip(x, y):  \n",
        "  \n",
        "  plt.annotate('(%d, %d)' % xy, xy=xy, ha='right', va='bottom')\n",
        "plt.show() "
      ],
      "metadata": {
        "id": "Cr69f2tsMr0F",
        "colab": {
          "base_uri": "https://localhost:8080/",
          "height": 441
        },
        "outputId": "032cda1a-4ae6-4720-cb4b-11d9db5a1b3a"
      },
      "execution_count": 22,
      "outputs": [
        {
          "output_type": "display_data",
          "data": {
            "text/plain": [
              "<Figure size 720x504 with 1 Axes>"
            ],
            "image/png": "[encoded data removed]"
          },
          "metadata": {
            "needs_background": "light"
          }
        }
      ]
    },
    {
      "cell_type": "code",
      "source": [],
      "metadata": {
        "id": "ZssYi8YfRItz"
      },
      "execution_count": null,
      "outputs": []
    },
    {
      "cell_type": "markdown",
      "source": [
        "# K-Means Optimal using Elbow Method"
      ],
      "metadata": {
        "id": "_3AwxYyVUUG_"
      }
    },
    {
      "cell_type": "code",
      "source": [
        "distortions = []\n",
        "inertias = []\n",
        "mapping1 = {}\n",
        "mapping2 = {}\n",
        "K = range(1, 10)\n",
        "  \n",
        "for k in K:\n",
        "    # Building and fitting the model\n",
        "    kmeanModel = KMeans(n_clusters=k).fit(data)\n",
        "    #kmeanModel.fit(data)\n",
        "  \n",
        "    distortions.append(sum(np.min(cdist(data, kmeanModel.cluster_centers_,\n",
        "                                        'euclidean'), axis=1)) / data.shape[0])\n",
        "    inertias.append(kmeanModel.inertia_)\n",
        "  \n",
        "    mapping1[k] = sum(np.min(cdist(data, kmeanModel.cluster_centers_,\n",
        "                                   'euclidean'), axis=1)) / data.shape[0]\n",
        "    mapping2[k] = kmeanModel.inertia_"
      ],
      "metadata": {
        "id": "8B8sPaM1Hw4v"
      },
      "execution_count": 16,
      "outputs": []
    },
    {
      "cell_type": "markdown",
      "source": [
        "# The Elbow Method Plot using Distortions"
      ],
      "metadata": {
        "id": "v05I-IiEOVDg"
      }
    },
    {
      "cell_type": "code",
      "source": [
        "plt.plot(K, distortions, 'bx-')\n",
        "plt.xlabel('Values of K')\n",
        "plt.ylabel('Distortion')\n",
        "plt.title('The Elbow Method using Distortion')\n",
        "plt.show()"
      ],
      "metadata": {
        "id": "1BNllZ2HMsH-",
        "colab": {
          "base_uri": "https://localhost:8080/",
          "height": 295
        },
        "outputId": "4d9e0efa-3318-420b-fc41-03520c98dfd8"
      },
      "execution_count": 17,
      "outputs": [
        {
          "output_type": "display_data",
          "data": {
            "text/plain": [
              "<Figure size 432x288 with 1 Axes>"
            ],
            "image/png": "[encoded data removed]"
          },
          "metadata": {
            "needs_background": "light"
          }
        }
      ]
    },
    {
      "cell_type": "markdown",
      "source": [
        "From the above plot , it is clear that k=2 is the optimal value for clustering"
      ],
      "metadata": {
        "id": "c-6C9n7oVDXo"
      }
    },
    {
      "cell_type": "markdown",
      "source": [
        "# Applying K-Means Clustering Algorithm with k=2"
      ],
      "metadata": {
        "id": "aLnVjmcCQycf"
      }
    },
    {
      "cell_type": "code",
      "source": [
        "k_2 = 2\n",
        "kmeans_2 = KMeans(n_clusters=k_2, random_state=0).fit(data)"
      ],
      "metadata": {
        "id": "vMVYI0txQycz"
      },
      "execution_count": 33,
      "outputs": []
    },
    {
      "cell_type": "code",
      "source": [
        "kmeans_2.labels_[0:18]"
      ],
      "metadata": {
        "colab": {
          "base_uri": "https://localhost:8080/"
        },
        "outputId": "91d6092e-f52b-44ab-dc92-de543a4f2316",
        "id": "GgwE3HXdQyc0"
      },
      "execution_count": 34,
      "outputs": [
        {
          "output_type": "execute_result",
          "data": {
            "text/plain": [
              "array([0, 0, 0, 0, 0, 0, 1, 1, 0, 0, 1, 1, 1, 1, 1, 1, 1], dtype=int32)"
            ]
          },
          "metadata": {},
          "execution_count": 34
        }
      ]
    },
    {
      "cell_type": "markdown",
      "source": [
        "# K-Means plot for k=2"
      ],
      "metadata": {
        "id": "q9T4sHACQ4yu"
      }
    },
    {
      "cell_type": "code",
      "source": [
        "color = ['r','b']\n",
        "markers = ['o', 'v']\n",
        "plt.plot()\n",
        "for i, l in enumerate(kmeans_2.labels_):\n",
        "    plt.scatter(x[i], y[i], label='True Position',color=color[l], marker=markers[l],ls='None')\n",
        "   # plt.annotate('(%d, %d)' % xy, xy=xy, ha='right', va='bottom')\n",
        "    plt.xlim([0, 10])\n",
        "    plt.ylim([0, 10])\n",
        "plt.show()"
      ],
      "metadata": {
        "colab": {
          "base_uri": "https://localhost:8080/",
          "height": 269
        },
        "outputId": "d8e4b7d5-8b11-4d67-d896-fb5b1de894bf",
        "id": "4geaV7-PQ4yv"
      },
      "execution_count": 35,
      "outputs": [
        {
          "output_type": "display_data",
          "data": {
            "text/plain": [
              "<Figure size 432x288 with 1 Axes>"
            ],
            "image/png": "[encoded data removed]"
          },
          "metadata": {
            "needs_background": "light"
          }
        }
      ]
    },
    {
      "cell_type": "markdown",
      "source": [
        "# Applying K-Means Clustering Algorithm with k=3"
      ],
      "metadata": {
        "id": "bthqQ40yOXjw"
      }
    },
    {
      "cell_type": "code",
      "source": [
        "k_3 = 3\n",
        "kmeans_3 = KMeans(n_clusters=k_3, random_state=0).fit(data)"
      ],
      "metadata": {
        "id": "NcA0IrJmMsNF"
      },
      "execution_count": 36,
      "outputs": []
    },
    {
      "cell_type": "code",
      "source": [
        "kmeans_3.labels_[0:18]"
      ],
      "metadata": {
        "colab": {
          "base_uri": "https://localhost:8080/"
        },
        "id": "rP54zKcK6qG0",
        "outputId": "b8b261c1-5ca5-46cb-afcd-41d06ed84b56"
      },
      "execution_count": 37,
      "outputs": [
        {
          "output_type": "execute_result",
          "data": {
            "text/plain": [
              "array([0, 0, 0, 0, 0, 1, 2, 2, 0, 1, 2, 1, 2, 2, 1, 2, 2], dtype=int32)"
            ]
          },
          "metadata": {},
          "execution_count": 37
        }
      ]
    },
    {
      "cell_type": "markdown",
      "source": [
        "# K-Means plot for k=3"
      ],
      "metadata": {
        "id": "psIFcyl7OanZ"
      }
    },
    {
      "cell_type": "code",
      "source": [
        "color = ['r','g','b']\n",
        "markers = ['o', 'v', 's']\n",
        "plt.plot()\n",
        "for i, l in enumerate(kmeans_3.labels_):\n",
        "    plt.scatter(x[i], y[i], label='True Position',color=color[l], marker=markers[l],ls='None')\n",
        "   # plt.annotate('(%d, %d)' % xy, xy=xy, ha='right', va='bottom')\n",
        "    plt.xlim([0, 10])\n",
        "    plt.ylim([0, 10])\n",
        "plt.show()"
      ],
      "metadata": {
        "colab": {
          "base_uri": "https://localhost:8080/",
          "height": 269
        },
        "id": "nc2Bmzyv6qNs",
        "outputId": "53cd6091-2a24-4943-ddaa-c4ccd43cd294"
      },
      "execution_count": 39,
      "outputs": [
        {
          "output_type": "display_data",
          "data": {
            "text/plain": [
              "<Figure size 432x288 with 1 Axes>"
            ],
            "image/png": "[encoded data removed]"
          },
          "metadata": {
            "needs_background": "light"
          }
        }
      ]
    },
    {
      "cell_type": "markdown",
      "source": [
        "# Applying K-Means Clustering Algorithm with k=4"
      ],
      "metadata": {
        "id": "i5EnT2_WTsmV"
      }
    },
    {
      "cell_type": "code",
      "source": [
        "k_4 = 4\n",
        "kmeans_4 = KMeans(n_clusters=k_4, random_state=0).fit(data)"
      ],
      "metadata": {
        "id": "BFnTN9CuTsmo"
      },
      "execution_count": 40,
      "outputs": []
    },
    {
      "cell_type": "code",
      "source": [
        "kmeans_4.labels_[0:18]"
      ],
      "metadata": {
        "colab": {
          "base_uri": "https://localhost:8080/"
        },
        "outputId": "0c0eab45-54b8-4299-fd0c-32acb8c24b0d",
        "id": "Axh59bQfTsmp"
      },
      "execution_count": 41,
      "outputs": [
        {
          "output_type": "execute_result",
          "data": {
            "text/plain": [
              "array([0, 0, 2, 0, 0, 2, 1, 1, 2, 2, 1, 3, 1, 1, 3, 1, 1], dtype=int32)"
            ]
          },
          "metadata": {},
          "execution_count": 41
        }
      ]
    },
    {
      "cell_type": "markdown",
      "source": [
        "# K-means plot for k=4"
      ],
      "metadata": {
        "id": "EptGo2LYOb6c"
      }
    },
    {
      "cell_type": "code",
      "source": [
        "color = ['r','g','b','k']\n",
        "markers = ['o', 'v', 's','+']\n",
        "plt.plot()\n",
        "for i, l in enumerate(kmeans_4.labels_):\n",
        "    plt.scatter(data[i][0], data[i][1], label='True Position',color=color[l], marker=markers[l],ls='None')\n",
        "    #plt.annotate('(%d, %d)' % xy, xy=xy, ha='right', va='bottom')\n",
        "    plt.xlim([0, 10])\n",
        "    plt.ylim([0, 10])\n",
        "plt.show()"
      ],
      "metadata": {
        "colab": {
          "base_uri": "https://localhost:8080/",
          "height": 269
        },
        "id": "2bxzFl7mMaQQ",
        "outputId": "210e9d08-39fa-467b-d52b-42682e1a49af"
      },
      "execution_count": 42,
      "outputs": [
        {
          "output_type": "display_data",
          "data": {
            "text/plain": [
              "<Figure size 432x288 with 1 Axes>"
            ],
            "image/png": "[encoded data removed]"
          },
          "metadata": {
            "needs_background": "light"
          }
        }
      ]
    },
    {
      "cell_type": "code",
      "source": [],
      "metadata": {
        "id": "BlgxOif66qKC"
      },
      "execution_count": null,
      "outputs": []
    },
    {
      "cell_type": "code",
      "source": [],
      "metadata": {
        "id": "pW5ZajNyHxEU"
      },
      "execution_count": null,
      "outputs": []
    }
  ]
}