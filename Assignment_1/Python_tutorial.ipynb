{
  "nbformat": 4,
  "nbformat_minor": 0,
  "metadata": {
    "colab": {
      "provenance": [],
      "toc_visible": true
    },
    "kernelspec": {
      "name": "python3",
      "display_name": "Python 3"
    },
    "language_info": {
      "name": "python"
    }
  },
  "cells": [
    {
      "cell_type": "code",
      "execution_count": 2,
      "metadata": {
        "id": "zaqL3ro_okKn"
      },
      "outputs": [],
      "source": [
        "import random\n",
        "import os \n",
        "import sys"
      ]
    },
    {
      "cell_type": "markdown",
      "source": [
        "Getting Started"
      ],
      "metadata": {
        "id": "qXHJFr8bsw4N"
      }
    },
    {
      "cell_type": "code",
      "source": [
        "print(\"Hello World\")\n",
        "\n",
        "name=\"Siddhant\"\n",
        "print(name)\n"
      ],
      "metadata": {
        "colab": {
          "base_uri": "https://localhost:8080/"
        },
        "id": "xXoruRc5osWk",
        "outputId": "8b8dcdbe-567a-4415-ea0d-875b47396ab1"
      },
      "execution_count": 3,
      "outputs": [
        {
          "output_type": "stream",
          "name": "stdout",
          "text": [
            "Hello World\n",
            "Siddhant\n"
          ]
        }
      ]
    },
    {
      "cell_type": "markdown",
      "source": [
        "# Running mathematical opeartions"
      ],
      "metadata": {
        "id": "8Mj1RgIZs9BO"
      }
    },
    {
      "cell_type": "code",
      "source": [
        "print(\"7+3 = \", 7+3)\n",
        "print(\"7-3 = \", 7-3)\n",
        "print(\"7*3 = \", 7*3)\n",
        "print(\"7/3 = \", 7/3)\n",
        "print(\"7**3 = \", 7**3)\n",
        "print(\"7//3 = \", 7//3)\n",
        "print(\"7%3 = \", 7%3)\n"
      ],
      "metadata": {
        "colab": {
          "base_uri": "https://localhost:8080/"
        },
        "id": "FsIXfF8gosY1",
        "outputId": "30670fa3-a23c-41c6-a464-50ac8bfb4be8"
      },
      "execution_count": 4,
      "outputs": [
        {
          "output_type": "stream",
          "name": "stdout",
          "text": [
            "7+3 =  10\n",
            "7-3 =  4\n",
            "7*3 =  21\n",
            "7/3 =  2.3333333333333335\n",
            "7**3 =  343\n",
            "7//3 =  2\n",
            "7%3 =  1\n"
          ]
        }
      ]
    },
    {
      "cell_type": "markdown",
      "source": [
        "# Strings"
      ],
      "metadata": {
        "id": "buK1FLWBs7dg"
      }
    },
    {
      "cell_type": "code",
      "source": [
        "quote  = \" Hi. I'm using Python\"\n",
        "multiline_quote = ''' just\n",
        "like everyone else\" '''\n",
        "\n",
        "new_string = quote + multiline_quote\n",
        "#embedding string in output using %s\n",
        "print(\"%s%s%s\" %(' I like the quote', quote, multiline_quote))\n",
        "\n",
        "print(\"I dont like \", end=\"\")\n",
        "print(\"newlines\")"
      ],
      "metadata": {
        "colab": {
          "base_uri": "https://localhost:8080/"
        },
        "id": "XTcLeRF-osbT",
        "outputId": "7bcf414e-79c7-4022-a038-f0d2e933cfc5"
      },
      "execution_count": 7,
      "outputs": [
        {
          "output_type": "stream",
          "name": "stdout",
          "text": [
            " I like the quote Hi. I'm using Python just\n",
            "like everyone else\" \n",
            "I dont like newlines\n"
          ]
        }
      ]
    },
    {
      "cell_type": "markdown",
      "source": [
        "# Lists"
      ],
      "metadata": {
        "id": "zYTVUFyBttvs"
      }
    },
    {
      "cell_type": "code",
      "source": [
        "grocery_list=['Juice', 'Tomatoes', 'Potatoes', 'Beans']\n",
        "print(\"First Item:\", grocery_list[0])\n",
        "\n",
        "grocery_list[0] = 'Green Apple' #changing the value stored in a list\n",
        "print('First Item:', grocery_list[0])\n",
        "\n",
        "print(grocery_list[1:3])\n"
      ],
      "metadata": {
        "colab": {
          "base_uri": "https://localhost:8080/"
        },
        "id": "3fKc4jbEosdl",
        "outputId": "7c8cb5f8-bcb2-4387-81e7-2d19fa26caa8"
      },
      "execution_count": 8,
      "outputs": [
        {
          "output_type": "stream",
          "name": "stdout",
          "text": [
            "First Item: Juice\n",
            "First Item: Green Apple\n",
            "['Tomatoes', 'Potatoes']\n"
          ]
        }
      ]
    },
    {
      "cell_type": "code",
      "source": [
        "other_events = ['Wash Car', 'Do Homework', 'Bank Of America']\n",
        "\n",
        "to_do_list = [other_events, grocery_list]\n",
        "\n",
        "print(to_do_list)\n",
        "\n",
        "print(to_do_list[1][1])\n",
        "\n",
        "grocery_list.append('Onions')\n",
        "print(grocery_list)\n",
        "grocery_list.insert(1, 'Pickle')\n",
        "print(grocery_list)\n",
        "grocery_list.sort()\n",
        "print(grocery_list)\n",
        "grocery_list.remove('Pickle')\n",
        "print(grocery_list)\n",
        "del grocery_list[4]\n",
        "print(to_do_list)\n",
        "\n",
        "to_do_list2= other_events + grocery_list\n",
        "print(len(to_do_list2))\n",
        "\n",
        "print(max(to_do_list2))\n",
        "print(min(to_do_list2))"
      ],
      "metadata": {
        "colab": {
          "base_uri": "https://localhost:8080/"
        },
        "id": "ssmnQQqLosfy",
        "outputId": "7f7616be-8af8-4428-801f-f87839725f9a"
      },
      "execution_count": 9,
      "outputs": [
        {
          "output_type": "stream",
          "name": "stdout",
          "text": [
            "[['Wash Car', 'Do Homework', 'Bank Of America'], ['Green Apple', 'Tomatoes', 'Potatoes', 'Beans']]\n",
            "Tomatoes\n",
            "['Green Apple', 'Tomatoes', 'Potatoes', 'Beans', 'Onions']\n",
            "['Green Apple', 'Pickle', 'Tomatoes', 'Potatoes', 'Beans', 'Onions']\n",
            "['Beans', 'Green Apple', 'Onions', 'Pickle', 'Potatoes', 'Tomatoes']\n",
            "['Beans', 'Green Apple', 'Onions', 'Potatoes', 'Tomatoes']\n",
            "[['Wash Car', 'Do Homework', 'Bank Of America'], ['Beans', 'Green Apple', 'Onions', 'Potatoes']]\n",
            "7\n",
            "Wash Car\n",
            "Bank Of America\n"
          ]
        }
      ]
    },
    {
      "cell_type": "markdown",
      "source": [
        "# Tuple"
      ],
      "metadata": {
        "id": "6XaK_88Ht-i4"
      }
    },
    {
      "cell_type": "code",
      "source": [
        "#we can't change values like in lists\n",
        "pi_tuple = (3,1,4,1,5,9)\n",
        "\n",
        "new_tuple = list(pi_tuple)\n",
        "new_list  = tuple(new_tuple)\n",
        "\n",
        "print(new_tuple)\n",
        "print(new_list)"
      ],
      "metadata": {
        "colab": {
          "base_uri": "https://localhost:8080/"
        },
        "id": "HpiSagefosiE",
        "outputId": "6e345626-83d3-4e6a-9a00-f9cc4783e1b1"
      },
      "execution_count": 10,
      "outputs": [
        {
          "output_type": "stream",
          "name": "stdout",
          "text": [
            "[3, 1, 4, 1, 5, 9]\n",
            "(3, 1, 4, 1, 5, 9)\n"
          ]
        }
      ]
    },
    {
      "cell_type": "markdown",
      "source": [
        "# Dictionaries"
      ],
      "metadata": {
        "id": "_Dl1o9FJuQik"
      }
    },
    {
      "cell_type": "code",
      "source": [
        "super_villains = {'Dr. Oct':'Spiderman', 'Joker':'Batman',\n",
        "                  'Mandarin':'Iron Man',\n",
        "                  'Thanos':'Super Man'}\n",
        "\n",
        "print(super_villains['Dr. Oct'])\n",
        "\n",
        "del super_villains['Thanos'] #delete an entry\n",
        "\n",
        "super_villains['Robin'] = 'Iron Heart' #Replace a value\n",
        "print(super_villains)\n",
        "\n",
        "print(len(super_villains)) # Print the number of items in the dictionary\n",
        "\n",
        "print(super_villains.get(\"Mandarin\")) # Get the value for the passed key\n",
        "print(super_villains.keys()) # Get a list of dictionary keys\n",
        "print(super_villains.values()) # Get a list of dictionary values\n"
      ],
      "metadata": {
        "colab": {
          "base_uri": "https://localhost:8080/"
        },
        "id": "Z60BORQmosll",
        "outputId": "d5ba7d71-759d-4285-b86e-f8d49625eb93"
      },
      "execution_count": 11,
      "outputs": [
        {
          "output_type": "stream",
          "name": "stdout",
          "text": [
            "Spiderman\n",
            "{'Dr. Oct': 'Spiderman', 'Joker': 'Batman', 'Mandarin': 'Iron Man', 'Robin': 'Iron Heart'}\n",
            "4\n",
            "Iron Man\n",
            "dict_keys(['Dr. Oct', 'Joker', 'Mandarin', 'Robin'])\n",
            "dict_values(['Spiderman', 'Batman', 'Iron Man', 'Iron Heart'])\n"
          ]
        }
      ]
    },
    {
      "cell_type": "markdown",
      "source": [
        "# Conditionals"
      ],
      "metadata": {
        "id": "j-LXobkMupwW"
      }
    },
    {
      "cell_type": "code",
      "source": [
        "#####IF ELSE, ELIF####\n",
        "age=21\n",
        "\n",
        "if age>16:\n",
        "    print('You are old enough to drive')\n",
        "else:\n",
        "    print('You are not old enough')\n",
        "    \n",
        "if age>=21:\n",
        "    print('U are old enough to drive a tractor')\n",
        "elif age>=16:\n",
        "    print('You are old enough to drive')\n",
        "else:\n",
        "    print(\"You are not old enough to drive\")\n",
        "\n",
        "#Logical Operators\n",
        "if((age>=1) and (age<=18)):\n",
        "    print(\"You get a birthday\")\n",
        "elif(age==21) or (age>=65):\n",
        "    print(\"U get a Birthday\")\n",
        "elif not(age==30):\n",
        "    print('You dont get a birthday')\n",
        "else:\n",
        "    print(\"You get a birthday party yeah\")\n"
      ],
      "metadata": {
        "colab": {
          "base_uri": "https://localhost:8080/"
        },
        "id": "rddalHpupW5w",
        "outputId": "91a42c41-8130-44fb-dbd8-5785dcc3c6fb"
      },
      "execution_count": 12,
      "outputs": [
        {
          "output_type": "stream",
          "name": "stdout",
          "text": [
            "You are old enough to drive\n",
            "U are old enough to drive a tractor\n",
            "U get a Birthday\n"
          ]
        }
      ]
    },
    {
      "cell_type": "code",
      "source": [
        "# FOR LOOP#####\n",
        "for x in range(0, 10):\n",
        "    print(x, ' ', end=\"\")\n",
        "    \n",
        "print('\\n')\n",
        "#Loops to cycle through the list\n",
        "grocery_list=['Juice', 'Tomatoes', 'Potatoes', 'Beans']\n",
        "\n",
        "for y in grocery_list:\n",
        "    print(y)\n",
        "    \n",
        "for x in [2,4,6,8, 10] :\n",
        "    print(x)   \n",
        "    \n",
        "num_list = [[1,2,3],[10,20,30], [100,200,300]]\n",
        "#Indended Loops\n",
        "for x in range(0,3):\n",
        "    for y in range(0,3):\n",
        "        print(num_list[x][y])\n",
        "        "
      ],
      "metadata": {
        "colab": {
          "base_uri": "https://localhost:8080/"
        },
        "id": "rAkTY_yvpW73",
        "outputId": "93c564b3-c008-4e45-ec40-c5eea8fd5566"
      },
      "execution_count": 13,
      "outputs": [
        {
          "output_type": "stream",
          "name": "stdout",
          "text": [
            "0  1  2  3  4  5  6  7  8  9  \n",
            "\n",
            "Juice\n",
            "Tomatoes\n",
            "Potatoes\n",
            "Beans\n",
            "2\n",
            "4\n",
            "6\n",
            "8\n",
            "10\n",
            "1\n",
            "2\n",
            "3\n",
            "10\n",
            "20\n",
            "30\n",
            "100\n",
            "200\n",
            "300\n"
          ]
        }
      ]
    },
    {
      "cell_type": "code",
      "source": [
        "####WHILE LOOP####\n",
        "random_num =  random.randrange(0,100)\n",
        "\n",
        "while(random_num !=15):\n",
        "    print(random_num)\n",
        "    random_num =random.randrange(0,100)\n",
        "    \n",
        "i = 0;\n",
        "\n",
        "while(i<=20):\n",
        "    if(i%2==0):\n",
        "        print(i)\n",
        "    elif(i==9):\n",
        "        break    #Forceful end all together\n",
        "    else:\n",
        "        i+=1\n",
        "        continue #Skips to the new iteration of loop\n",
        "    i+=1\n"
      ],
      "metadata": {
        "colab": {
          "base_uri": "https://localhost:8080/"
        },
        "id": "rPm5x74jpW95",
        "outputId": "56e8dc80-0460-4730-bb7b-9f9e4c0b3081"
      },
      "execution_count": 14,
      "outputs": [
        {
          "output_type": "stream",
          "name": "stdout",
          "text": [
            "71\n",
            "80\n",
            "26\n",
            "7\n",
            "51\n",
            "35\n",
            "58\n",
            "18\n",
            "0\n",
            "30\n",
            "18\n",
            "98\n",
            "7\n",
            "38\n",
            "86\n",
            "93\n",
            "98\n",
            "94\n",
            "94\n",
            "86\n",
            "37\n",
            "57\n",
            "68\n",
            "72\n",
            "70\n",
            "60\n",
            "61\n",
            "22\n",
            "84\n",
            "81\n",
            "30\n",
            "20\n",
            "97\n",
            "23\n",
            "79\n",
            "67\n",
            "21\n",
            "77\n",
            "58\n",
            "34\n",
            "45\n",
            "44\n",
            "25\n",
            "66\n",
            "8\n",
            "62\n",
            "71\n",
            "1\n",
            "36\n",
            "86\n",
            "0\n",
            "2\n",
            "4\n",
            "6\n",
            "8\n"
          ]
        }
      ]
    },
    {
      "cell_type": "markdown",
      "source": [
        "# Functions"
      ],
      "metadata": {
        "id": "nVO-cWeJvabi"
      }
    },
    {
      "cell_type": "code",
      "source": [
        "sumNum = 0;\n",
        "def addNumber(fNum, lNum):\n",
        "    sumNum = fNum+lNum\n",
        "    return sumNum\n",
        "print(sumNum(1, 4))"
      ],
      "metadata": {
        "id": "ov_z6iUxpXAr"
      },
      "execution_count": null,
      "outputs": []
    },
    {
      "cell_type": "code",
      "source": [
        "print('What is your name')\n",
        "#name= sys.stdin.readline()\n",
        "name= input(\"Hello \")\n",
        "print(name)\n",
        "long_string = \"I'll catch you if you fall-The Floor\"\n",
        "print(long_string[0:4]) # Retrieve the first 4 characters\n",
        "\n",
        "print(long_string[-5:]) # Get the last 5 characters\n",
        "print(long_string[:-5]) # Everything up to the last 5 characters\n",
        "print(long_string[:4] +\" be there\")  # Concatenate part of a string to another\n",
        "\n",
        "# String formatting\n",
        "print(\"%c is my %s letter and my number %d number is %.5f\"%\n",
        "('X' , 'favorite,', 1, .14) )\n",
        "\n",
        "print(long_string.capitalize()) # Capitalizes the first letter\n",
        "print(long_string.find(\"Floor\"))\n",
        "\n",
        "print(long_string.isalpha()) # Returns true if all characters are letters ' isn't a letter\n",
        "print(long_string.isalnum()) # Returns true if all characters are numbers\n",
        "print(long_string.replace(\"Floor\", \"Ground\"))\n",
        "\n"
      ],
      "metadata": {
        "colab": {
          "base_uri": "https://localhost:8080/"
        },
        "id": "RHxgC6YcpXC_",
        "outputId": "a864d425-ca60-430a-a5bb-6c01cd823a4f"
      },
      "execution_count": 27,
      "outputs": [
        {
          "output_type": "stream",
          "name": "stdout",
          "text": [
            "What is your name\n",
            "Hello Siddhant\n",
            "Siddhant\n",
            "I'll\n",
            "Floor\n",
            "I'll catch you if you fall-The \n",
            "I'll be there\n",
            "X is my favorite, letter and my number 1 number is 0.14000\n",
            "I'll catch you if you fall-the floor\n",
            "31\n",
            "False\n",
            "False\n",
            "I'll catch you if you fall-The Ground\n"
          ]
        }
      ]
    },
    {
      "cell_type": "markdown",
      "source": [
        "# File I/O"
      ],
      "metadata": {
        "id": "2eomaZ1swODl"
      }
    },
    {
      "cell_type": "code",
      "source": [
        "# Overwrite or create a file for writing\n",
        "test_file = open(\"test.txt\", \"wb\")\n",
        "\n",
        "print(test_file.mode)\n",
        "\n",
        "print(test_file.name)\n",
        "# Write text to a file with a newline\n",
        "test_file.write(bytes(\"Write me to the file\\n\", \"UTF-8\"))\n",
        "\n",
        "test_file.close()\n",
        "\n",
        "# Opens a file for reading and writing\n",
        "test_file = open('test.txt',\"r+\")\n",
        "text_in_file = test_file.read() # Read text from the file\n",
        "\n",
        "print(text_in_file)\n",
        "\n",
        "# Delete the file\n",
        "os.remove(\"test.txt\")"
      ],
      "metadata": {
        "id": "yqPWFPZYpXFN"
      },
      "execution_count": null,
      "outputs": []
    },
    {
      "cell_type": "markdown",
      "source": [
        "# Classes and Objects"
      ],
      "metadata": {
        "id": "IglgOq7NwMsW"
      }
    },
    {
      "cell_type": "code",
      "source": [
        "class Animal:\n",
        "  #__ means the variable is private\n",
        "    __name=\"\"\n",
        "    __height = 0\n",
        "    __weight = 0\n",
        "    __sound = 0\n",
        "    \n",
        "    def __init__(self, name, height, weight, sound):\n",
        "        self.__name = name\n",
        "        self.__height = height\n",
        "        self.__weight = weight\n",
        "        self.__sound = sound\n",
        "        \n",
        "    def set_name(self, name):\n",
        "        self.__name = name\n",
        "    \n",
        "    def get_name(self):\n",
        "        return self.__name\n",
        "    \n",
        "    def set_height(self, height):\n",
        "        self.__height = height\n",
        "    \n",
        "    def get_height(self):\n",
        "        return self.__height\n",
        "    \n",
        "    def set_weight(self, weight):\n",
        "        self.__weight = weight\n",
        "    \n",
        "    def get_weight(self):\n",
        "        return self.__weight\n",
        "    \n",
        "    def set_sound(self, sound):\n",
        "        self.__sound = sound\n",
        "    \n",
        "    def get_sound(self):\n",
        "        return self.__sound\n",
        "    \n",
        "    def get_type(self):\n",
        "        print(\"Animal\")\n",
        "        \n",
        "    def toString(self):\n",
        "      return \"{} is {} cm tall and {} kilograms and says {}\".format(self.__name, self.__height, self.__weight, self.__sound)\n",
        "  \n",
        "cat = Animal(\"Whiskers\", 33, 10, 'Meow') #Object of Class Animal\n",
        "\n",
        "print(cat.toString()) \n",
        "\n",
        "\n",
        "####INHERITANCE####\n",
        "class Dog(Animal):\n",
        "    __owner = None\n",
        "\n",
        "    def __init__(self, name, height, weight, sound, owner):\n",
        "        self.__owner = owner\n",
        "        self.__animal_type = None\n",
        "\n",
        "       #super class constructor\n",
        "        super(Dog, self).__init__(name, height, weight, sound)\n",
        "\n",
        "    def set_owner(self, owner):\n",
        "        self.__owner = owner\n",
        "\n",
        "    def get_owner(self):\n",
        "        return self.__owner\n",
        "\n",
        "    def get_type(self):\n",
        "        print (\"Dog\")\n",
        "\n",
        "    #overwriting the function in super class\n",
        "    def toString(self):\n",
        "        return \"{} is {} cm tall and {} kilograms and says {}. His owner is {}\".format(self.get_name(), self.get_height(), self.get_weight(), self.get_sound(), self.__owner)\n",
        "\n",
        "    \n",
        "    def multiple_sounds(self, how_many=None):\n",
        "        if how_many is None:\n",
        "            print(self.get_sound)\n",
        "        else:\n",
        "            print(self.get_sound() * how_many)\n",
        "\n",
        "spot = Dog(\"Spot\", 53, 27, \"Ruff\", \"Siddhant\")\n",
        "\n",
        "print(spot.toString())\n",
        "\n",
        "\n",
        "####POLYMORPHISM####\n",
        "class AnimalTesting:\n",
        "    def get_type(self, animal):\n",
        "        animal.get_type()\n",
        "\n",
        "test_animals = AnimalTesting()\n",
        "\n",
        "test_animals.get_type(cat)\n",
        "test_animals.get_type(spot)\n",
        "\n",
        "spot.multiple_sounds(4)"
      ],
      "metadata": {
        "colab": {
          "base_uri": "https://localhost:8080/"
        },
        "id": "kmxQBphMpXHH",
        "outputId": "2da3ab17-b210-4005-db1d-767b6e9104fb"
      },
      "execution_count": 25,
      "outputs": [
        {
          "output_type": "stream",
          "name": "stdout",
          "text": [
            "Whiskers is 33 cm tall and 10 kilograms and says Meow\n",
            "Spot is 53 cm tall and 27 kilograms and says Ruff. His owner is Siddhant\n",
            "Animal\n",
            "Dog\n",
            "RuffRuffRuffRuff\n"
          ]
        }
      ]
    },
    {
      "cell_type": "code",
      "source": [],
      "metadata": {
        "id": "yw-dKXzCpXKV"
      },
      "execution_count": null,
      "outputs": []
    }
  ]
}