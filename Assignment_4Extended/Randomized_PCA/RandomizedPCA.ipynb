{
  "cells": [
    {
      "cell_type": "code",
      "execution_count": 1,
      "metadata": {
        "colab": {
          "base_uri": "https://localhost:8080/"
        },
        "id": "PitS1Hs6v1Lr",
        "outputId": "a4006658-d8e0-47de-947a-95a732a2d2bb"
      },
      "outputs": [
        {
          "output_type": "stream",
          "name": "stdout",
          "text": [
            "Downloading data from https://storage.googleapis.com/tensorflow/tf-keras-datasets/mnist.npz\n",
            "11490434/11490434 [==============================] - 0s 0us/step\n"
          ]
        }
      ],
      "source": [
        "from keras.datasets import mnist\n",
        "\n",
        "(train_X, train_y), (test_X, test_y) = mnist.load_data()\n",
        "\n",
        "# reshape the data a little bit\n",
        "train_X = train_X.reshape(60000, 784)"
      ]
    },
    {
      "cell_type": "code",
      "execution_count": 2,
      "metadata": {
        "id": "nKB-fpwtwGrj"
      },
      "outputs": [],
      "source": [
        "import matplotlib\n",
        "import matplotlib.pyplot as plt\n",
        "\n",
        "def print_figure (X, num) :\n",
        "    plt.imshow(X[num], cmap = matplotlib.cm.binary, interpolation=\"nearest\")\n",
        "    plt.axis(\"off\")\n",
        "    plt.show()"
      ]
    },
    {
      "cell_type": "code",
      "execution_count": 3,
      "metadata": {
        "colab": {
          "base_uri": "https://localhost:8080/"
        },
        "id": "jaT5rCup8jtn",
        "outputId": "6a446c89-7a43-41cf-8a03-0d7fdcb7f043"
      },
      "outputs": [
        {
          "output_type": "stream",
          "name": "stdout",
          "text": [
            "(60000, 154)\n"
          ]
        }
      ],
      "source": [
        "from sklearn.decomposition import PCA\n",
        "\n",
        "rnd_pca = PCA(n_components=154, svd_solver='randomized')\n",
        "X_red = rnd_pca.fit_transform(train_X)          \n",
        "          \n",
        "print(X_red.shape)"
      ]
    },
    {
      "cell_type": "code",
      "execution_count": 4,
      "metadata": {
        "colab": {
          "base_uri": "https://localhost:8080/"
        },
        "id": "mlrHMK0C8jzX",
        "outputId": "3dbb87a9-8e35-4d1b-f51b-8e66907f2fcc"
      },
      "outputs": [
        {
          "output_type": "stream",
          "name": "stdout",
          "text": [
            "n_components = 2\n",
            "    PCA: 13.3 seconds\n",
            "    Rnd PCA: 6.9 seconds\n",
            "n_components = 10\n",
            "    PCA: 11.8 seconds\n",
            "    Rnd PCA: 4.3 seconds\n",
            "n_components = 50\n",
            "    PCA: 11.8 seconds\n",
            "    Rnd PCA: 6.8 seconds\n",
            "n_components = 150\n",
            "    PCA: 11.9 seconds\n",
            "    Rnd PCA: 9.6 seconds\n",
            "n_components = 300\n",
            "    PCA: 12.6 seconds\n",
            "    Rnd PCA: 19.3 seconds\n"
          ]
        }
      ],
      "source": [
        "import time\n",
        "\n",
        "for n_components in (2, 10, 50, 150, 300):\n",
        "    print(\"n_components =\", n_components)\n",
        "    \n",
        "    regular_pca = PCA(n_components=n_components, svd_solver=\"full\")\n",
        "    rnd_pca = PCA(n_components=n_components, random_state=42, svd_solver=\"randomized\")\n",
        "\n",
        "    for name, pca in ((\"PCA\", regular_pca), (\"Rnd PCA\", rnd_pca)):\n",
        "        t1 = time.time()\n",
        "        pca.fit(train_X)\n",
        "        t2 = time.time()\n",
        "        print(\"    {}: {:.1f} seconds\".format(name, t2 - t1))"
      ]
    },
    {
      "cell_type": "code",
      "source": [
        "import numpy as np"
      ],
      "metadata": {
        "id": "SJ_P26OPERk6"
      },
      "execution_count": 5,
      "outputs": []
    },
    {
      "cell_type": "code",
      "execution_count": 6,
      "metadata": {
        "colab": {
          "base_uri": "https://localhost:8080/",
          "height": 314
        },
        "id": "aDHBAq0b8j2j",
        "outputId": "49ea256d-4a1c-42e5-c555-ce69f4d94ab5"
      },
      "outputs": [
        {
          "output_type": "execute_result",
          "data": {
            "text/plain": [
              "Text(0.5, 1.0, 'PCA and Randomized PCA time complexity ')"
            ]
          },
          "metadata": {},
          "execution_count": 6
        },
        {
          "output_type": "display_data",
          "data": {
            "text/plain": [
              "<Figure size 432x288 with 1 Axes>"
            ],
            "image/png": "[encoded data removed]"
          },
          "metadata": {
            "needs_background": "light"
          }
        }
      ],
      "source": [
        "times_rpca = []\n",
        "times_pca = []\n",
        "sizes = [1000, 10000, 20000, 30000, 40000, 50000, 70000, 100000, 200000, 500000, 1000000]\n",
        "for n_samples in sizes:\n",
        "    X = np.random.randn(n_samples, 5)\n",
        "    pca = PCA(n_components=2, svd_solver=\"randomized\", random_state=42)\n",
        "    t1 = time.time()\n",
        "    pca.fit(X)\n",
        "    t2 = time.time()\n",
        "    times_rpca.append(t2 - t1)\n",
        "    pca = PCA(n_components=2, svd_solver=\"full\")\n",
        "    t1 = time.time()\n",
        "    pca.fit(X)\n",
        "    t2 = time.time()\n",
        "    times_pca.append(t2 - t1)\n",
        "\n",
        "plt.plot(sizes, times_rpca, \"b-o\", label=\"RPCA\")\n",
        "plt.plot(sizes, times_pca, \"r-s\", label=\"PCA\")\n",
        "plt.xlabel(\"n_samples\")\n",
        "plt.ylabel(\"Training time\")\n",
        "plt.legend(loc=\"upper left\")\n",
        "plt.title(\"PCA and Randomized PCA time complexity \")"
      ]
    },
    {
      "cell_type": "code",
      "execution_count": null,
      "metadata": {
        "id": "FYOYK8h28j46"
      },
      "outputs": [],
      "source": [
        "times_pca = []\n",
        "sizes = [1000, 10000, 20000, 30000, 40000, 50000, 70000, 100000, 200000, 500000, 1000000]\n",
        "for n_features in sizes:\n",
        "    X = np.random.randn(2000, n_features)\n",
        "    pca = PCA(n_components=2, random_state=42, svd_solver=\"randomized\")\n",
        "    t1 = time.time()\n",
        "    pca.fit(X)\n",
        "    t2 = time.time()\n",
        "    times_rpca.append(t2 - t1)\n",
        "    pca = PCA(n_components=2, svd_solver=\"full\")\n",
        "    t1 = time.time()\n",
        "    pca.fit(X)\n",
        "    t2 = time.time()\n",
        "    times_pca.append(t2 - t1)\n",
        "\n",
        "plt.plot(sizes, times_rpca, \"b-o\", label=\"RPCA\")\n",
        "plt.plot(sizes, times_pca, \"r-s\", label=\"PCA\")\n",
        "plt.xlabel(\"n_features\")\n",
        "plt.ylabel(\"Training time\")\n",
        "plt.legend(loc=\"upper left\")\n",
        "plt.title(\"PCA and Randomized PCA time complexity \")"
      ]
    },
    {
      "cell_type": "code",
      "execution_count": null,
      "metadata": {
        "id": "ibb4Sjix8j7s"
      },
      "outputs": [],
      "source": []
    },
    {
      "cell_type": "code",
      "execution_count": null,
      "metadata": {
        "id": "sTx-9KDn8j-t"
      },
      "outputs": [],
      "source": []
    }
  ],
  "metadata": {
    "colab": {
      "provenance": []
    },
    "kernelspec": {
      "display_name": "Python 3",
      "name": "python3"
    },
    "language_info": {
      "name": "python"
    }
  },
  "nbformat": 4,
  "nbformat_minor": 0
}