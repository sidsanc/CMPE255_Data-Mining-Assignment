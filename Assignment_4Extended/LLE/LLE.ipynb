{
  "nbformat": 4,
  "nbformat_minor": 0,
  "metadata": {
    "colab": {
      "provenance": []
    },
    "kernelspec": {
      "name": "python3",
      "display_name": "Python 3"
    },
    "language_info": {
      "name": "python"
    }
  },
  "cells": [
    {
      "cell_type": "code",
      "execution_count": 1,
      "metadata": {
        "id": "h4mRV4_FFiq7"
      },
      "outputs": [],
      "source": [
        "import pandas as pd\n",
        "import numpy as np\n",
        "from time import time\n",
        "from sklearn import manifold\n",
        "from sklearn import datasets\n",
        "import matplotlib.pyplot as plt\n",
        "from matplotlib.ticker import NullFormatter\n",
        "\n"
      ]
    },
    {
      "cell_type": "code",
      "source": [
        "def load_autompg():\n",
        "    data = pd.read_csv('/content/auto-mpg.csv')\n",
        "    data = data[data.horsepower != '?']\n",
        "    data.horsepower = data.horsepower.astype('float')\n",
        "    return data.values, data.index\n"
      ],
      "metadata": {
        "id": "RHnMuMYWR-Km"
      },
      "execution_count": 22,
      "outputs": []
    },
    {
      "cell_type": "code",
      "source": [
        "def fit_transform(X_highdimensional, n_neighbors):\n",
        "    lle = manifold.LocallyLinearEmbedding(n_neighbors, n_components=2, method='standard', eigen_solver='dense')\n",
        "    t0 = time()\n",
        "    X_low = lle.fit_transform(X_highdimensional)\n",
        "    return X_low, (time() - t0), lle.reconstruction_error_"
      ],
      "metadata": {
        "id": "TgrmaQQ-R-NZ"
      },
      "execution_count": 23,
      "outputs": []
    },
    {
      "cell_type": "code",
      "source": [
        "def plot_low_dimensional_embedding(X_low, name=\"\", time=0, error=0):\n",
        "    plt.figure()\n",
        "    ax = plt.subplot(111) \n",
        "    # plot the MPG value color-coded\n",
        "    sc = ax.scatter(X_low[:, 0], X_low[:, 1], c=X[:, 0], s=20, cmap=plt.cm.rainbow)\n",
        "    cb = plt.colorbar(sc)\n",
        "    cb.set_label('MPG')\n",
        "    ax.xaxis.set_major_formatter(NullFormatter())\n",
        "    ax.yaxis.set_major_formatter(NullFormatter())\n",
        "    ax.axis('tight')\n",
        "    if error != 0:\n",
        "        plt.title(\"{}, time: {:.3f}s, error: {:.3e}\".format(name, time, error))\n",
        "    else:\n",
        "        plt.title(\"{}, time: {:.3f}s\".format(name, time))"
      ],
      "metadata": {
        "id": "CrSIV155R-P4"
      },
      "execution_count": 24,
      "outputs": []
    },
    {
      "cell_type": "code",
      "source": [
        "from sklearn.manifold import LocallyLinearEmbedding as LLE"
      ],
      "metadata": {
        "id": "SJGxXy-BTDqf"
      },
      "execution_count": 7,
      "outputs": []
    },
    {
      "cell_type": "code",
      "source": [
        "num_neighbors = 100\n",
        "X, Y = load_autompg()\n",
        "X_lle, tlle, err_lle = LLE.fit_transform(X, num_neighbors)\n",
        "plot_low_dimensional_embedding(X_lle, \"LLE\", tlle, err_lle)"
      ],
      "metadata": {
        "id": "mfQdlpLuYeDm"
      },
      "execution_count": null,
      "outputs": []
    }
  ]
}