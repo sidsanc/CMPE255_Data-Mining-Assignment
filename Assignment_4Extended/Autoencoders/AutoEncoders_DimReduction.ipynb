{
  "nbformat": 4,
  "nbformat_minor": 0,
  "metadata": {
    "colab": {
      "provenance": [],
      "toc_visible": true
    },
    "kernelspec": {
      "name": "python3",
      "display_name": "Python 3"
    },
    "language_info": {
      "name": "python"
    }
  },
  "cells": [
    {
      "cell_type": "markdown",
      "source": [
        "# Import Modules"
      ],
      "metadata": {
        "id": "jDyM6E7lZqSz"
      }
    },
    {
      "cell_type": "code",
      "source": [
        "!pip install --upgrade xlrd\n",
        "!pip install --upgrade pandas"
      ],
      "metadata": {
        "colab": {
          "base_uri": "https://localhost:8080/",
          "height": 435
        },
        "id": "Amha39omc-Y2",
        "outputId": "fd51acf3-9867-4daa-8c68-abc30b1eedd4"
      },
      "execution_count": 9,
      "outputs": [
        {
          "output_type": "stream",
          "name": "stdout",
          "text": [
            "Looking in indexes: https://pypi.org/simple, https://us-python.pkg.dev/colab-wheels/public/simple/\n",
            "Requirement already satisfied: xlrd in /usr/local/lib/python3.8/dist-packages (2.0.1)\n",
            "Looking in indexes: https://pypi.org/simple, https://us-python.pkg.dev/colab-wheels/public/simple/\n",
            "Requirement already satisfied: pandas in /usr/local/lib/python3.8/dist-packages (1.3.5)\n",
            "Collecting pandas\n",
            "  Downloading pandas-1.5.2-cp38-cp38-manylinux_2_17_x86_64.manylinux2014_x86_64.whl (12.2 MB)\n",
            "\u001b[K     |████████████████████████████████| 12.2 MB 5.1 MB/s \n",
            "\u001b[?25hRequirement already satisfied: numpy>=1.20.3 in /usr/local/lib/python3.8/dist-packages (from pandas) (1.21.6)\n",
            "Requirement already satisfied: pytz>=2020.1 in /usr/local/lib/python3.8/dist-packages (from pandas) (2022.6)\n",
            "Requirement already satisfied: python-dateutil>=2.8.1 in /usr/local/lib/python3.8/dist-packages (from pandas) (2.8.2)\n",
            "Requirement already satisfied: six>=1.5 in /usr/local/lib/python3.8/dist-packages (from python-dateutil>=2.8.1->pandas) (1.15.0)\n",
            "Installing collected packages: pandas\n",
            "  Attempting uninstall: pandas\n",
            "    Found existing installation: pandas 1.3.5\n",
            "    Uninstalling pandas-1.3.5:\n",
            "      Successfully uninstalled pandas-1.3.5\n",
            "Successfully installed pandas-1.5.2\n"
          ]
        },
        {
          "output_type": "display_data",
          "data": {
            "application/vnd.colab-display-data+json": {
              "pip_warning": {
                "packages": [
                  "pandas"
                ]
              }
            }
          },
          "metadata": {}
        }
      ]
    },
    {
      "cell_type": "code",
      "execution_count": 1,
      "metadata": {
        "id": "K4zUmAy4ZdUL"
      },
      "outputs": [],
      "source": [
        "import numpy as np\n",
        "import pandas as pd\n",
        "import matplotlib.pyplot as plt\n",
        "import seaborn as sns"
      ]
    },
    {
      "cell_type": "code",
      "source": [
        "from sklearn.model_selection import train_test_split"
      ],
      "metadata": {
        "id": "IC2IVoAVdUaA"
      },
      "execution_count": 7,
      "outputs": []
    },
    {
      "cell_type": "markdown",
      "source": [
        "# Import Dataset"
      ],
      "metadata": {
        "id": "C1AVV_iuZtce"
      }
    },
    {
      "cell_type": "code",
      "source": [
        "# from google.colab import drive\n",
        "# drive.mount('/content/drive')\n",
        "\n",
        "# from google.colab import files\n",
        "# uploaded = files.upload()\n",
        "\n",
        "df = pd.read_excel('/content/dataset.xls', header = 1)\n",
        "df = df.rename(columns = {'default payment next month': 'Default'})"
      ],
      "metadata": {
        "id": "4q3VV5M3Z_we"
      },
      "execution_count": 2,
      "outputs": []
    },
    {
      "cell_type": "markdown",
      "source": [
        "# Pre-processing"
      ],
      "metadata": {
        "id": "QF87NezQZtjz"
      }
    },
    {
      "cell_type": "code",
      "source": [
        "df.isnull().sum()\n",
        "df = df.drop(['ID'], axis = 1)"
      ],
      "metadata": {
        "id": "jEGeUR3dZ6ps"
      },
      "execution_count": 4,
      "outputs": []
    },
    {
      "cell_type": "code",
      "source": [
        "df.head()"
      ],
      "metadata": {
        "colab": {
          "base_uri": "https://localhost:8080/",
          "height": 299
        },
        "id": "-DiLhHtceGer",
        "outputId": "4caf8746-4bf3-47bc-d192-722145a678da"
      },
      "execution_count": 5,
      "outputs": [
        {
          "output_type": "execute_result",
          "data": {
            "text/plain": [
              "   LIMIT_BAL  SEX  EDUCATION  MARRIAGE  AGE  PAY_0  PAY_2  PAY_3  PAY_4  \\\n",
              "0      20000    2          2         1   24      2      2     -1     -1   \n",
              "1     120000    2          2         2   26     -1      2      0      0   \n",
              "2      90000    2          2         2   34      0      0      0      0   \n",
              "3      50000    2          2         1   37      0      0      0      0   \n",
              "4      50000    1          2         1   57     -1      0     -1      0   \n",
              "\n",
              "   PAY_5  ...  BILL_AMT4  BILL_AMT5  BILL_AMT6  PAY_AMT1  PAY_AMT2  PAY_AMT3  \\\n",
              "0     -2  ...          0          0          0         0       689         0   \n",
              "1      0  ...       3272       3455       3261         0      1000      1000   \n",
              "2      0  ...      14331      14948      15549      1518      1500      1000   \n",
              "3      0  ...      28314      28959      29547      2000      2019      1200   \n",
              "4      0  ...      20940      19146      19131      2000     36681     10000   \n",
              "\n",
              "   PAY_AMT4  PAY_AMT5  PAY_AMT6  Default  \n",
              "0         0         0         0        1  \n",
              "1      1000         0      2000        1  \n",
              "2      1000      1000      5000        0  \n",
              "3      1100      1069      1000        0  \n",
              "4      9000       689       679        0  \n",
              "\n",
              "[5 rows x 24 columns]"
            ],
            "text/html": [
              "\n",
              "  <div id=\"df-5d5c6599-3dca-4dd0-bab2-96e5425b6be6\">\n",
              "    <div class=\"colab-df-container\">\n",
              "      <div>\n",
              "<style scoped>\n",
              "    .dataframe tbody tr th:only-of-type {\n",
              "        vertical-align: middle;\n",
              "    }\n",
              "\n",
              "    .dataframe tbody tr th {\n",
              "        vertical-align: top;\n",
              "    }\n",
              "\n",
              "    .dataframe thead th {\n",
              "        text-align: right;\n",
              "    }\n",
              "</style>\n",
              "<table border=\"1\" class=\"dataframe\">\n",
              "  <thead>\n",
              "    <tr style=\"text-align: right;\">\n",
              "      <th></th>\n",
              "      <th>LIMIT_BAL</th>\n",
              "      <th>SEX</th>\n",
              "      <th>EDUCATION</th>\n",
              "      <th>MARRIAGE</th>\n",
              "      <th>AGE</th>\n",
              "      <th>PAY_0</th>\n",
              "      <th>PAY_2</th>\n",
              "      <th>PAY_3</th>\n",
              "      <th>PAY_4</th>\n",
              "      <th>PAY_5</th>\n",
              "      <th>...</th>\n",
              "      <th>BILL_AMT4</th>\n",
              "      <th>BILL_AMT5</th>\n",
              "      <th>BILL_AMT6</th>\n",
              "      <th>PAY_AMT1</th>\n",
              "      <th>PAY_AMT2</th>\n",
              "      <th>PAY_AMT3</th>\n",
              "      <th>PAY_AMT4</th>\n",
              "      <th>PAY_AMT5</th>\n",
              "      <th>PAY_AMT6</th>\n",
              "      <th>Default</th>\n",
              "    </tr>\n",
              "  </thead>\n",
              "  <tbody>\n",
              "    <tr>\n",
              "      <th>0</th>\n",
              "      <td>20000</td>\n",
              "      <td>2</td>\n",
              "      <td>2</td>\n",
              "      <td>1</td>\n",
              "      <td>24</td>\n",
              "      <td>2</td>\n",
              "      <td>2</td>\n",
              "      <td>-1</td>\n",
              "      <td>-1</td>\n",
              "      <td>-2</td>\n",
              "      <td>...</td>\n",
              "      <td>0</td>\n",
              "      <td>0</td>\n",
              "      <td>0</td>\n",
              "      <td>0</td>\n",
              "      <td>689</td>\n",
              "      <td>0</td>\n",
              "      <td>0</td>\n",
              "      <td>0</td>\n",
              "      <td>0</td>\n",
              "      <td>1</td>\n",
              "    </tr>\n",
              "    <tr>\n",
              "      <th>1</th>\n",
              "      <td>120000</td>\n",
              "      <td>2</td>\n",
              "      <td>2</td>\n",
              "      <td>2</td>\n",
              "      <td>26</td>\n",
              "      <td>-1</td>\n",
              "      <td>2</td>\n",
              "      <td>0</td>\n",
              "      <td>0</td>\n",
              "      <td>0</td>\n",
              "      <td>...</td>\n",
              "      <td>3272</td>\n",
              "      <td>3455</td>\n",
              "      <td>3261</td>\n",
              "      <td>0</td>\n",
              "      <td>1000</td>\n",
              "      <td>1000</td>\n",
              "      <td>1000</td>\n",
              "      <td>0</td>\n",
              "      <td>2000</td>\n",
              "      <td>1</td>\n",
              "    </tr>\n",
              "    <tr>\n",
              "      <th>2</th>\n",
              "      <td>90000</td>\n",
              "      <td>2</td>\n",
              "      <td>2</td>\n",
              "      <td>2</td>\n",
              "      <td>34</td>\n",
              "      <td>0</td>\n",
              "      <td>0</td>\n",
              "      <td>0</td>\n",
              "      <td>0</td>\n",
              "      <td>0</td>\n",
              "      <td>...</td>\n",
              "      <td>14331</td>\n",
              "      <td>14948</td>\n",
              "      <td>15549</td>\n",
              "      <td>1518</td>\n",
              "      <td>1500</td>\n",
              "      <td>1000</td>\n",
              "      <td>1000</td>\n",
              "      <td>1000</td>\n",
              "      <td>5000</td>\n",
              "      <td>0</td>\n",
              "    </tr>\n",
              "    <tr>\n",
              "      <th>3</th>\n",
              "      <td>50000</td>\n",
              "      <td>2</td>\n",
              "      <td>2</td>\n",
              "      <td>1</td>\n",
              "      <td>37</td>\n",
              "      <td>0</td>\n",
              "      <td>0</td>\n",
              "      <td>0</td>\n",
              "      <td>0</td>\n",
              "      <td>0</td>\n",
              "      <td>...</td>\n",
              "      <td>28314</td>\n",
              "      <td>28959</td>\n",
              "      <td>29547</td>\n",
              "      <td>2000</td>\n",
              "      <td>2019</td>\n",
              "      <td>1200</td>\n",
              "      <td>1100</td>\n",
              "      <td>1069</td>\n",
              "      <td>1000</td>\n",
              "      <td>0</td>\n",
              "    </tr>\n",
              "    <tr>\n",
              "      <th>4</th>\n",
              "      <td>50000</td>\n",
              "      <td>1</td>\n",
              "      <td>2</td>\n",
              "      <td>1</td>\n",
              "      <td>57</td>\n",
              "      <td>-1</td>\n",
              "      <td>0</td>\n",
              "      <td>-1</td>\n",
              "      <td>0</td>\n",
              "      <td>0</td>\n",
              "      <td>...</td>\n",
              "      <td>20940</td>\n",
              "      <td>19146</td>\n",
              "      <td>19131</td>\n",
              "      <td>2000</td>\n",
              "      <td>36681</td>\n",
              "      <td>10000</td>\n",
              "      <td>9000</td>\n",
              "      <td>689</td>\n",
              "      <td>679</td>\n",
              "      <td>0</td>\n",
              "    </tr>\n",
              "  </tbody>\n",
              "</table>\n",
              "<p>5 rows × 24 columns</p>\n",
              "</div>\n",
              "      <button class=\"colab-df-convert\" onclick=\"convertToInteractive('df-5d5c6599-3dca-4dd0-bab2-96e5425b6be6')\"\n",
              "              title=\"Convert this dataframe to an interactive table.\"\n",
              "              style=\"display:none;\">\n",
              "        \n",
              "  <svg xmlns=\"http://www.w3.org/2000/svg\" height=\"24px\"viewBox=\"0 0 24 24\"\n",
              "       width=\"24px\">\n",
              "    <path d=\"M0 0h24v24H0V0z\" fill=\"none\"/>\n",
              "    <path d=\"M18.56 5.44l.94 2.06.94-2.06 2.06-.94-2.06-.94-.94-2.06-.94 2.06-2.06.94zm-11 1L8.5 8.5l.94-2.06 2.06-.94-2.06-.94L8.5 2.5l-.94 2.06-2.06.94zm10 10l.94 2.06.94-2.06 2.06-.94-2.06-.94-.94-2.06-.94 2.06-2.06.94z\"/><path d=\"M17.41 7.96l-1.37-1.37c-.4-.4-.92-.59-1.43-.59-.52 0-1.04.2-1.43.59L10.3 9.45l-7.72 7.72c-.78.78-.78 2.05 0 2.83L4 21.41c.39.39.9.59 1.41.59.51 0 1.02-.2 1.41-.59l7.78-7.78 2.81-2.81c.8-.78.8-2.07 0-2.86zM5.41 20L4 18.59l7.72-7.72 1.47 1.35L5.41 20z\"/>\n",
              "  </svg>\n",
              "      </button>\n",
              "      \n",
              "  <style>\n",
              "    .colab-df-container {\n",
              "      display:flex;\n",
              "      flex-wrap:wrap;\n",
              "      gap: 12px;\n",
              "    }\n",
              "\n",
              "    .colab-df-convert {\n",
              "      background-color: #E8F0FE;\n",
              "      border: none;\n",
              "      border-radius: 50%;\n",
              "      cursor: pointer;\n",
              "      display: none;\n",
              "      fill: #1967D2;\n",
              "      height: 32px;\n",
              "      padding: 0 0 0 0;\n",
              "      width: 32px;\n",
              "    }\n",
              "\n",
              "    .colab-df-convert:hover {\n",
              "      background-color: #E2EBFA;\n",
              "      box-shadow: 0px 1px 2px rgba(60, 64, 67, 0.3), 0px 1px 3px 1px rgba(60, 64, 67, 0.15);\n",
              "      fill: #174EA6;\n",
              "    }\n",
              "\n",
              "    [theme=dark] .colab-df-convert {\n",
              "      background-color: #3B4455;\n",
              "      fill: #D2E3FC;\n",
              "    }\n",
              "\n",
              "    [theme=dark] .colab-df-convert:hover {\n",
              "      background-color: #434B5C;\n",
              "      box-shadow: 0px 1px 3px 1px rgba(0, 0, 0, 0.15);\n",
              "      filter: drop-shadow(0px 1px 2px rgba(0, 0, 0, 0.3));\n",
              "      fill: #FFFFFF;\n",
              "    }\n",
              "  </style>\n",
              "\n",
              "      <script>\n",
              "        const buttonEl =\n",
              "          document.querySelector('#df-5d5c6599-3dca-4dd0-bab2-96e5425b6be6 button.colab-df-convert');\n",
              "        buttonEl.style.display =\n",
              "          google.colab.kernel.accessAllowed ? 'block' : 'none';\n",
              "\n",
              "        async function convertToInteractive(key) {\n",
              "          const element = document.querySelector('#df-5d5c6599-3dca-4dd0-bab2-96e5425b6be6');\n",
              "          const dataTable =\n",
              "            await google.colab.kernel.invokeFunction('convertToInteractive',\n",
              "                                                     [key], {});\n",
              "          if (!dataTable) return;\n",
              "\n",
              "          const docLinkHtml = 'Like what you see? Visit the ' +\n",
              "            '<a target=\"_blank\" href=https://colab.research.google.com/notebooks/data_table.ipynb>data table notebook</a>'\n",
              "            + ' to learn more about interactive tables.';\n",
              "          element.innerHTML = '';\n",
              "          dataTable['output_type'] = 'display_data';\n",
              "          await google.colab.output.renderOutput(dataTable, element);\n",
              "          const docLink = document.createElement('div');\n",
              "          docLink.innerHTML = docLinkHtml;\n",
              "          element.appendChild(docLink);\n",
              "        }\n",
              "      </script>\n",
              "    </div>\n",
              "  </div>\n",
              "  "
            ]
          },
          "metadata": {},
          "execution_count": 5
        }
      ]
    },
    {
      "cell_type": "markdown",
      "source": [
        "## Encode categorical variables to ONE-HOT"
      ],
      "metadata": {
        "id": "IeVCEj9uoJW7"
      }
    },
    {
      "cell_type": "code",
      "source": [
        "categorical_columns = ['SEX', 'EDUCATION', 'MARRIAGE', 'PAY_0', 'PAY_2', 'PAY_3', 'PAY_4', 'PAY_5', 'PAY_6']\n",
        "\n",
        "df = pd.get_dummies(df, columns = categorical_columns)"
      ],
      "metadata": {
        "id": "XbmUEMMPeD7b"
      },
      "execution_count": 6,
      "outputs": []
    },
    {
      "cell_type": "code",
      "source": [
        "columns_to_scale = ['LIMIT_BAL', 'AGE', 'BILL_AMT1', 'BILL_AMT2', 'BILL_AMT3', 'BILL_AMT4', 'BILL_AMT5'\n",
        "    , 'BILL_AMT6', 'PAY_AMT1', 'PAY_AMT2', 'PAY_AMT3', 'PAY_AMT4', 'PAY_AMT5', 'PAY_AMT6']\n",
        "\n",
        "df[columns_to_scale]=df[columns_to_scale].apply(lambda x: (x-x.min())/(x.max()-x.min()))"
      ],
      "metadata": {
        "id": "mtDZ7vsWeD_z"
      },
      "execution_count": null,
      "outputs": []
    },
    {
      "cell_type": "markdown",
      "source": [
        "## Split in 75% train and 25% test set"
      ],
      "metadata": {
        "id": "A9QMeztJoSlG"
      }
    },
    {
      "cell_type": "code",
      "source": [
        "train, test_df = train_test_split(df, test_size = 0.15, random_state= 1984)\n",
        "train_df, dev_df = train_test_split(train, test_size = 0.15, random_state= 1984)"
      ],
      "metadata": {
        "id": "OUne_g2keqNv"
      },
      "execution_count": 8,
      "outputs": []
    },
    {
      "cell_type": "code",
      "source": [
        "train_df.Default.sum()/train_df.shape[0]"
      ],
      "metadata": {
        "colab": {
          "base_uri": "https://localhost:8080/"
        },
        "id": "U8X7AVhJe7vm",
        "outputId": "f735bfa1-3a31-4522-ed85-d0255dba00a0"
      },
      "execution_count": 14,
      "outputs": [
        {
          "output_type": "execute_result",
          "data": {
            "text/plain": [
              "0.22108419838523644"
            ]
          },
          "metadata": {},
          "execution_count": 14
        }
      ]
    },
    {
      "cell_type": "code",
      "source": [
        "dev_df.Default.sum()/dev_df.shape[0] \n",
        "test_df.Default.sum()/test_df.shape[0]"
      ],
      "metadata": {
        "id": "zqtfDhYHe73f"
      },
      "execution_count": null,
      "outputs": []
    },
    {
      "cell_type": "code",
      "source": [
        "train_y = train_df.Default\n",
        "dev_y = dev_df.Default\n",
        "test_y = test_df.Default"
      ],
      "metadata": {
        "id": "sH3Px4l3e77r"
      },
      "execution_count": 15,
      "outputs": []
    },
    {
      "cell_type": "code",
      "source": [
        "train_x = train_df.drop(['Default'], axis = 1)\n",
        "dev_x = dev_df.drop(['Default'], axis = 1)\n",
        "test_x = test_df.drop(['Default'], axis = 1)"
      ],
      "metadata": {
        "id": "I5LFRGw7e7_N"
      },
      "execution_count": 16,
      "outputs": []
    },
    {
      "cell_type": "code",
      "source": [
        "train_x =np.array(train_x)\n",
        "dev_x =np.array(dev_x)\n",
        "test_x = np.array(test_x)\n",
        "\n",
        "train_y = np.array(train_y)\n",
        "dev_y = np.array(dev_y)\n",
        "test_y = np.array(test_y)\n"
      ],
      "metadata": {
        "id": "cnMz94xse8Cs"
      },
      "execution_count": 17,
      "outputs": []
    },
    {
      "cell_type": "markdown",
      "source": [
        "# Build the AutoEncoder"
      ],
      "metadata": {
        "id": "6xmU01HEgEh3"
      }
    },
    {
      "cell_type": "code",
      "source": [
        "from keras.models import Sequential, Model\n",
        "from keras.layers import Activation, Dense, Dropout, Input\n",
        "from sklearn.metrics import confusion_matrix,accuracy_score, roc_curve, auc\n",
        "from sklearn import preprocessing"
      ],
      "metadata": {
        "id": "Qyvzll2jgOvT"
      },
      "execution_count": 18,
      "outputs": []
    },
    {
      "cell_type": "markdown",
      "source": [
        "## Input Layer"
      ],
      "metadata": {
        "id": "RzoErxyGlMOP"
      }
    },
    {
      "cell_type": "code",
      "source": [
        "input_data = Input(shape=(train_x.shape[1],))"
      ],
      "metadata": {
        "id": "UZNgiWL3gIJF"
      },
      "execution_count": 19,
      "outputs": []
    },
    {
      "cell_type": "markdown",
      "source": [
        "## Encoding Layer"
      ],
      "metadata": {
        "id": "qonQp5QqlV8b"
      }
    },
    {
      "cell_type": "code",
      "source": [
        "encoding_dim = 16\n",
        "encoded = Dense(encoding_dim, activation='elu')(input_data)"
      ],
      "metadata": {
        "id": "AV57wJXMgeLA"
      },
      "execution_count": 21,
      "outputs": []
    },
    {
      "cell_type": "markdown",
      "source": [
        "## Decoding Layer"
      ],
      "metadata": {
        "id": "t-nvG4ghlZhX"
      }
    },
    {
      "cell_type": "code",
      "source": [
        "decoded = Dense(train_x.shape[1], activation='sigmoid')(encoded)"
      ],
      "metadata": {
        "id": "uYimZ_ykgeOB"
      },
      "execution_count": 22,
      "outputs": []
    },
    {
      "cell_type": "markdown",
      "source": [
        "## Autoencoder Model initialization and compilation"
      ],
      "metadata": {
        "id": "tZOF1wiilhJk"
      }
    },
    {
      "cell_type": "code",
      "source": [
        "autoencoder = Model(input_data, decoded)"
      ],
      "metadata": {
        "id": "V_XemG_2geRQ"
      },
      "execution_count": 23,
      "outputs": []
    },
    {
      "cell_type": "code",
      "source": [
        "autoencoder.compile(optimizer='adam',\n",
        "                    loss='binary_crossentropy')"
      ],
      "metadata": {
        "id": "V5ZAh7pdgeUF"
      },
      "execution_count": 24,
      "outputs": []
    },
    {
      "cell_type": "code",
      "source": [
        "hist_auto = autoencoder.fit(train_x, train_x,\n",
        "                epochs=50,\n",
        "                batch_size=256,\n",
        "                shuffle=True,\n",
        "                validation_data=(dev_x, dev_x))"
      ],
      "metadata": {
        "colab": {
          "base_uri": "https://localhost:8080/"
        },
        "id": "KoWDrkEageXR",
        "outputId": "6df42b72-9746-414e-ae8c-64b891afef46"
      },
      "execution_count": 25,
      "outputs": [
        {
          "output_type": "stream",
          "name": "stdout",
          "text": [
            "Epoch 1/50\n",
            "85/85 [==============================] - 1s 9ms/step - loss: -167468320.0000 - val_loss: -483665056.0000\n",
            "Epoch 2/50\n",
            "85/85 [==============================] - 0s 5ms/step - loss: -1390427904.0000 - val_loss: -2489397248.0000\n",
            "Epoch 3/50\n",
            "85/85 [==============================] - 0s 5ms/step - loss: -4947422208.0000 - val_loss: -7404058624.0000\n",
            "Epoch 4/50\n",
            "85/85 [==============================] - 0s 5ms/step - loss: -11853034496.0000 - val_loss: -15260353536.0000\n",
            "Epoch 5/50\n",
            "85/85 [==============================] - 0s 5ms/step - loss: -21731616768.0000 - val_loss: -25641990144.0000\n",
            "Epoch 6/50\n",
            "85/85 [==============================] - 0s 5ms/step - loss: -34279550976.0000 - val_loss: -38766178304.0000\n",
            "Epoch 7/50\n",
            "85/85 [==============================] - 0s 5ms/step - loss: -49985507328.0000 - val_loss: -54890663936.0000\n",
            "Epoch 8/50\n",
            "85/85 [==============================] - 0s 5ms/step - loss: -68907393024.0000 - val_loss: -73898606592.0000\n",
            "Epoch 9/50\n",
            "85/85 [==============================] - 0s 5ms/step - loss: -90672021504.0000 - val_loss: -95272148992.0000\n",
            "Epoch 10/50\n",
            "85/85 [==============================] - 0s 5ms/step - loss: -114902032384.0000 - val_loss: -119034445824.0000\n",
            "Epoch 11/50\n",
            "85/85 [==============================] - 0s 5ms/step - loss: -141622591488.0000 - val_loss: -144866000896.0000\n",
            "Epoch 12/50\n",
            "85/85 [==============================] - 0s 4ms/step - loss: -170622287872.0000 - val_loss: -172944588800.0000\n",
            "Epoch 13/50\n",
            "85/85 [==============================] - 0s 5ms/step - loss: -201960456192.0000 - val_loss: -202890412032.0000\n",
            "Epoch 14/50\n",
            "85/85 [==============================] - 0s 5ms/step - loss: -235319443456.0000 - val_loss: -235060314112.0000\n",
            "Epoch 15/50\n",
            "85/85 [==============================] - 0s 4ms/step - loss: -270786740224.0000 - val_loss: -269087555584.0000\n",
            "Epoch 16/50\n",
            "85/85 [==============================] - 0s 5ms/step - loss: -308280426496.0000 - val_loss: -304829136896.0000\n",
            "Epoch 17/50\n",
            "85/85 [==============================] - 0s 4ms/step - loss: -347725365248.0000 - val_loss: -342493626368.0000\n",
            "Epoch 18/50\n",
            "85/85 [==============================] - 0s 4ms/step - loss: -389129142272.0000 - val_loss: -381629759488.0000\n",
            "Epoch 19/50\n",
            "85/85 [==============================] - 0s 4ms/step - loss: -432332832768.0000 - val_loss: -422678200320.0000\n",
            "Epoch 20/50\n",
            "85/85 [==============================] - 0s 5ms/step - loss: -477510402048.0000 - val_loss: -465567285248.0000\n",
            "Epoch 21/50\n",
            "85/85 [==============================] - 0s 4ms/step - loss: -524597460992.0000 - val_loss: -509885906944.0000\n",
            "Epoch 22/50\n",
            "85/85 [==============================] - 0s 4ms/step - loss: -573333897216.0000 - val_loss: -556438978560.0000\n",
            "Epoch 23/50\n",
            "85/85 [==============================] - 0s 4ms/step - loss: -623966683136.0000 - val_loss: -603891957760.0000\n",
            "Epoch 24/50\n",
            "85/85 [==============================] - 0s 5ms/step - loss: -676180000768.0000 - val_loss: -653684703232.0000\n",
            "Epoch 25/50\n",
            "85/85 [==============================] - 0s 5ms/step - loss: -730202505216.0000 - val_loss: -704617512960.0000\n",
            "Epoch 26/50\n",
            "85/85 [==============================] - 0s 4ms/step - loss: -785801216000.0000 - val_loss: -756760051712.0000\n",
            "Epoch 27/50\n",
            "85/85 [==============================] - 1s 9ms/step - loss: -843039768576.0000 - val_loss: -810758438912.0000\n",
            "Epoch 28/50\n",
            "85/85 [==============================] - 0s 5ms/step - loss: -901963907072.0000 - val_loss: -866299346944.0000\n",
            "Epoch 29/50\n",
            "85/85 [==============================] - 0s 4ms/step - loss: -962428665856.0000 - val_loss: -923446476800.0000\n",
            "Epoch 30/50\n",
            "85/85 [==============================] - 0s 5ms/step - loss: -1024462225408.0000 - val_loss: -981831122944.0000\n",
            "Epoch 31/50\n",
            "85/85 [==============================] - 0s 4ms/step - loss: -1088001540096.0000 - val_loss: -1041421959168.0000\n",
            "Epoch 32/50\n",
            "85/85 [==============================] - 0s 5ms/step - loss: -1153042743296.0000 - val_loss: -1102580809728.0000\n",
            "Epoch 33/50\n",
            "85/85 [==============================] - 0s 4ms/step - loss: -1219477897216.0000 - val_loss: -1165348438016.0000\n",
            "Epoch 34/50\n",
            "85/85 [==============================] - 0s 5ms/step - loss: -1287519469568.0000 - val_loss: -1228793577472.0000\n",
            "Epoch 35/50\n",
            "85/85 [==============================] - 0s 4ms/step - loss: -1356875431936.0000 - val_loss: -1294241366016.0000\n",
            "Epoch 36/50\n",
            "85/85 [==============================] - 0s 5ms/step - loss: -1427753795584.0000 - val_loss: -1360758177792.0000\n",
            "Epoch 37/50\n",
            "85/85 [==============================] - 0s 5ms/step - loss: -1500132409344.0000 - val_loss: -1428335230976.0000\n",
            "Epoch 38/50\n",
            "85/85 [==============================] - 0s 4ms/step - loss: -1573745852416.0000 - val_loss: -1497671663616.0000\n",
            "Epoch 39/50\n",
            "85/85 [==============================] - 0s 5ms/step - loss: -1648899129344.0000 - val_loss: -1568055623680.0000\n",
            "Epoch 40/50\n",
            "85/85 [==============================] - 0s 4ms/step - loss: -1725381738496.0000 - val_loss: -1639560642560.0000\n",
            "Epoch 41/50\n",
            "85/85 [==============================] - 0s 5ms/step - loss: -1803271405568.0000 - val_loss: -1712654778368.0000\n",
            "Epoch 42/50\n",
            "85/85 [==============================] - 0s 5ms/step - loss: -1882471530496.0000 - val_loss: -1786748469248.0000\n",
            "Epoch 43/50\n",
            "85/85 [==============================] - 0s 5ms/step - loss: -1963016060928.0000 - val_loss: -1862515425280.0000\n",
            "Epoch 44/50\n",
            "85/85 [==============================] - 0s 5ms/step - loss: -2044894904320.0000 - val_loss: -1939291897856.0000\n",
            "Epoch 45/50\n",
            "85/85 [==============================] - 1s 6ms/step - loss: -2128037675008.0000 - val_loss: -2017140932608.0000\n",
            "Epoch 46/50\n",
            "85/85 [==============================] - 0s 6ms/step - loss: -2212559323136.0000 - val_loss: -2095693037568.0000\n",
            "Epoch 47/50\n",
            "85/85 [==============================] - 0s 5ms/step - loss: -2298177126400.0000 - val_loss: -2176432865280.0000\n",
            "Epoch 48/50\n",
            "85/85 [==============================] - 0s 5ms/step - loss: -2385222828032.0000 - val_loss: -2258055725056.0000\n",
            "Epoch 49/50\n",
            "85/85 [==============================] - 0s 5ms/step - loss: -2473504014336.0000 - val_loss: -2340750098432.0000\n",
            "Epoch 50/50\n",
            "85/85 [==============================] - 0s 5ms/step - loss: -2563218341888.0000 - val_loss: -2424287264768.0000\n"
          ]
        }
      ]
    },
    {
      "cell_type": "code",
      "source": [
        "plt.figure()\n",
        "plt.plot(hist_auto.history['loss'])\n",
        "plt.plot(hist_auto.history['val_loss'])\n",
        "plt.title('Autoencoder model loss')\n",
        "plt.ylabel('loss')\n",
        "plt.xlabel('epoch')\n",
        "plt.legend(['train', 'test'], loc='upper right')\n",
        "plt.show()\n"
      ],
      "metadata": {
        "colab": {
          "base_uri": "https://localhost:8080/",
          "height": 295
        },
        "id": "U89s2yZugeZt",
        "outputId": "3826ee12-ee26-46dc-cf8b-d35e8269fe6c"
      },
      "execution_count": 26,
      "outputs": [
        {
          "output_type": "display_data",
          "data": {
            "text/plain": [
              "<Figure size 432x288 with 1 Axes>"
            ],
            "image/png": "[encoded data removed]"
          },
          "metadata": {
            "needs_background": "light"
          }
        }
      ]
    },
    {
      "cell_type": "code",
      "source": [],
      "metadata": {
        "id": "l1uUJpFwmYLr"
      },
      "execution_count": null,
      "outputs": []
    },
    {
      "cell_type": "markdown",
      "source": [
        "# Model to make encodings"
      ],
      "metadata": {
        "id": "eA1ECFEwmaAM"
      }
    },
    {
      "cell_type": "code",
      "source": [
        "encoder = Model(input_data, encoded)\n",
        "encoded_input = Input(shape=(encoding_dim,))"
      ],
      "metadata": {
        "id": "_J0LEBhYhpyI"
      },
      "execution_count": 27,
      "outputs": []
    },
    {
      "cell_type": "markdown",
      "source": [
        "## Last Layer of Autoencoder model"
      ],
      "metadata": {
        "id": "5XUUHYixm6CJ"
      }
    },
    {
      "cell_type": "code",
      "source": [
        "decoder_layer = autoencoder.layers[-1]\n",
        "decoder = Model(encoded_input, decoder_layer(encoded_input))"
      ],
      "metadata": {
        "id": "6PHu0ZHIhp1o"
      },
      "execution_count": 28,
      "outputs": []
    },
    {
      "cell_type": "markdown",
      "source": [
        "## Encode and Decode our test set"
      ],
      "metadata": {
        "id": "J9xW2UZln2yC"
      }
    },
    {
      "cell_type": "code",
      "source": [
        "encoded_x = encoder.predict(test_x)\n",
        "decoded_output = decoder.predict(encoded_x)"
      ],
      "metadata": {
        "colab": {
          "base_uri": "https://localhost:8080/"
        },
        "id": "xZ0Sg-fBhp41",
        "outputId": "8051dd0f-04d0-44ac-eb07-9aed9c5a1014"
      },
      "execution_count": 29,
      "outputs": [
        {
          "output_type": "stream",
          "name": "stdout",
          "text": [
            "141/141 [==============================] - 0s 2ms/step\n",
            "141/141 [==============================] - 1s 4ms/step\n"
          ]
        }
      ]
    },
    {
      "cell_type": "markdown",
      "source": [
        "# Model using encoded data"
      ],
      "metadata": {
        "id": "7SlaOQ50nO6f"
      }
    },
    {
      "cell_type": "code",
      "source": [
        "encoded_train_x = encoder.predict(train_x)\n",
        "encoded_test_x = encoder.predict(test_x)"
      ],
      "metadata": {
        "colab": {
          "base_uri": "https://localhost:8080/"
        },
        "id": "Zy_p8gFihp8L",
        "outputId": "32924edb-96a7-47ac-e5fb-dded0844265b"
      },
      "execution_count": 30,
      "outputs": [
        {
          "output_type": "stream",
          "name": "stdout",
          "text": [
            "678/678 [==============================] - 1s 1ms/step\n",
            "141/141 [==============================] - 0s 2ms/step\n"
          ]
        }
      ]
    },
    {
      "cell_type": "code",
      "source": [
        "model = Sequential()\n",
        "model.add(Dense(16, input_dim=encoded_train_x.shape[1],\n",
        "                kernel_initializer='normal',\n",
        "                #kernel_regularizer=regularizers.l2(0.02),\n",
        "                activation=\"relu\"\n",
        "                )\n",
        "          )\n",
        "model.add(Dropout(0.2))\n",
        "model.add(Dense(1))\n",
        "model.add(Activation(\"sigmoid\"))\n",
        "model.compile(loss=\"binary_crossentropy\", optimizer='adam')"
      ],
      "metadata": {
        "id": "xNIqVpfAhqAC"
      },
      "execution_count": 31,
      "outputs": []
    },
    {
      "cell_type": "code",
      "source": [
        "history = model.fit(encoded_train_x, train_y, validation_split=0.2, epochs=10, batch_size=64)"
      ],
      "metadata": {
        "colab": {
          "base_uri": "https://localhost:8080/"
        },
        "id": "62xe0YV7iARV",
        "outputId": "b8328ceb-6e4c-429e-b426-29ed0fd25955"
      },
      "execution_count": 32,
      "outputs": [
        {
          "output_type": "stream",
          "name": "stdout",
          "text": [
            "Epoch 1/10\n",
            "271/271 [==============================] - 1s 3ms/step - loss: 48288.5938 - val_loss: 0.6607\n",
            "Epoch 2/10\n",
            "271/271 [==============================] - 1s 2ms/step - loss: 0.6328 - val_loss: 0.6088\n",
            "Epoch 3/10\n",
            "271/271 [==============================] - 1s 3ms/step - loss: 0.5908 - val_loss: 0.5760\n",
            "Epoch 4/10\n",
            "271/271 [==============================] - 1s 3ms/step - loss: 0.5643 - val_loss: 0.5556\n",
            "Epoch 5/10\n",
            "271/271 [==============================] - 1s 3ms/step - loss: 0.5480 - val_loss: 0.5432\n",
            "Epoch 6/10\n",
            "271/271 [==============================] - 1s 3ms/step - loss: 0.5384 - val_loss: 0.5363\n",
            "Epoch 7/10\n",
            "271/271 [==============================] - 1s 3ms/step - loss: 0.5331 - val_loss: 0.5325\n",
            "Epoch 8/10\n",
            "271/271 [==============================] - 1s 2ms/step - loss: 0.5303 - val_loss: 0.5307\n",
            "Epoch 9/10\n",
            "271/271 [==============================] - 1s 3ms/step - loss: 0.5290 - val_loss: 0.5299\n",
            "Epoch 10/10\n",
            "271/271 [==============================] - 1s 2ms/step - loss: 0.5284 - val_loss: 0.5295\n"
          ]
        }
      ]
    },
    {
      "cell_type": "markdown",
      "source": [
        "## Plot for loss"
      ],
      "metadata": {
        "id": "hDLSk-KhniDO"
      }
    },
    {
      "cell_type": "code",
      "source": [
        "plt.figure()\n",
        "plt.plot(history.history['loss'])\n",
        "plt.plot(history.history['val_loss'])\n",
        "plt.title('Encoded model loss')\n",
        "plt.ylabel('loss')\n",
        "plt.xlabel('epoch')\n",
        "plt.legend(['train', 'test'], loc='upper right')\n",
        "plt.show()\n"
      ],
      "metadata": {
        "colab": {
          "base_uri": "https://localhost:8080/",
          "height": 295
        },
        "id": "kHxkbPoGiAXs",
        "outputId": "d3a17d2c-3833-4888-e316-a46ca21e517a"
      },
      "execution_count": 33,
      "outputs": [
        {
          "output_type": "display_data",
          "data": {
            "text/plain": [
              "<Figure size 432x288 with 1 Axes>"
            ],
            "image/png": "[encoded data removed]"
          },
          "metadata": {
            "needs_background": "light"
          }
        }
      ]
    },
    {
      "cell_type": "markdown",
      "source": [
        "# Predictions and Visualizations"
      ],
      "metadata": {
        "id": "yzY7ja4Eknis"
      }
    },
    {
      "cell_type": "code",
      "source": [
        "predictions_NN_prob = model.predict(encoded_test_x)"
      ],
      "metadata": {
        "colab": {
          "base_uri": "https://localhost:8080/"
        },
        "id": "KsZckr0jiAbu",
        "outputId": "b1c46c15-2008-4fb6-f56d-65e5cbc9970d"
      },
      "execution_count": 34,
      "outputs": [
        {
          "output_type": "stream",
          "name": "stdout",
          "text": [
            "141/141 [==============================] - 0s 2ms/step\n"
          ]
        }
      ]
    },
    {
      "cell_type": "markdown",
      "source": [
        "## 0-1 probability output"
      ],
      "metadata": {
        "id": "7zCpHm3dkymx"
      }
    },
    {
      "cell_type": "code",
      "source": [
        "predictions_NN_prob = predictions_NN_prob[:,0]\n",
        "\n",
        "predictions_NN_01 = np.where(predictions_NN_prob > 0.5, 1, 0)"
      ],
      "metadata": {
        "id": "IJPqSPXQiJsV"
      },
      "execution_count": 35,
      "outputs": []
    },
    {
      "cell_type": "markdown",
      "source": [
        "## Accuracy check"
      ],
      "metadata": {
        "id": "n84NvKH2k6jj"
      }
    },
    {
      "cell_type": "code",
      "source": [
        "acc_NN = accuracy_score(test_y, predictions_NN_01)\n",
        "print('Overall accuracy of Neural Network model:', acc_NN)"
      ],
      "metadata": {
        "colab": {
          "base_uri": "https://localhost:8080/"
        },
        "id": "1tg7oWjyiJvd",
        "outputId": "10748500-f149-4581-fc5b-6edb3df2e661"
      },
      "execution_count": 36,
      "outputs": [
        {
          "output_type": "stream",
          "name": "stdout",
          "text": [
            "Overall accuracy of Neural Network model: 0.7831111111111111\n"
          ]
        }
      ]
    },
    {
      "cell_type": "markdown",
      "source": [
        "## ROC Curve"
      ],
      "metadata": {
        "id": "pR8s7W0wk-_3"
      }
    },
    {
      "cell_type": "code",
      "source": [
        "false_positive_rate, recall, thresholds = roc_curve(test_y, predictions_NN_prob)\n",
        "roc_auc = auc(false_positive_rate, recall)\n",
        "plt.figure()\n",
        "plt.title('Receiver Operating Characteristic (ROC)')\n",
        "plt.plot(false_positive_rate, recall, 'b', label = 'AUC = %0.3f' %roc_auc)\n",
        "plt.legend(loc='lower right')\n",
        "plt.plot([0,1], [0,1], 'r--')\n",
        "plt.xlim([0.0,1.0])\n",
        "plt.ylim([0.0,1.0])\n",
        "plt.ylabel('Recall')\n",
        "plt.xlabel('Fall-out (1-Specificity)')\n",
        "plt.show()"
      ],
      "metadata": {
        "colab": {
          "base_uri": "https://localhost:8080/",
          "height": 295
        },
        "id": "dfFm0d9JiJzl",
        "outputId": "8c816ceb-9c8c-4d2f-e19d-af07a75145d8"
      },
      "execution_count": 37,
      "outputs": [
        {
          "output_type": "display_data",
          "data": {
            "text/plain": [
              "<Figure size 432x288 with 1 Axes>"
            ],
            "image/png": "[encoded data removed]"
          },
          "metadata": {
            "needs_background": "light"
          }
        }
      ]
    },
    {
      "cell_type": "markdown",
      "source": [
        "## Confusion Matrix"
      ],
      "metadata": {
        "id": "elVC0DMclF5I"
      }
    },
    {
      "cell_type": "code",
      "source": [
        "cm = confusion_matrix(test_y, predictions_NN_01)\n",
        "labels = ['No Default', 'Default']\n",
        "plt.figure(figsize=(8,6))\n",
        "sns.heatmap(cm,xticklabels=labels, yticklabels=labels, annot=True, fmt='d', cmap=\"Blues\", vmin = 0.2);\n",
        "plt.title('Confusion Matrix')\n",
        "plt.ylabel('True Class')\n",
        "plt.xlabel('Predicted Class')\n",
        "plt.show()"
      ],
      "metadata": {
        "colab": {
          "base_uri": "https://localhost:8080/",
          "height": 404
        },
        "id": "cwBCKzV5iJ27",
        "outputId": "2ce11f7c-f258-4fbd-ab9f-b1d4812525ef"
      },
      "execution_count": 38,
      "outputs": [
        {
          "output_type": "display_data",
          "data": {
            "text/plain": [
              "<Figure size 576x432 with 2 Axes>"
            ],
            "image/png": "[encoded data removed]"
          },
          "metadata": {
            "needs_background": "light"
          }
        }
      ]
    }
  ]
}